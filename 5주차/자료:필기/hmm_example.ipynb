{
 "nbformat": 4,
 "nbformat_minor": 0,
 "metadata": {
  "colab": {
   "name": "hmm_example.ipynb",
   "provenance": [],
   "collapsed_sections": []
  },
  "kernelspec": {
   "name": "python3",
   "display_name": "Python 3"
  }
 },
 "cells": [
  {
   "cell_type": "markdown",
   "metadata": {
    "id": "YYKwldBwVXIW"
   },
   "source": [
    "<h2>개인 구글 드라이브와 colab 연동 </h2>"
   ]
  },
  {
   "cell_type": "code",
   "metadata": {
    "id": "5o0lh-JLURY7",
    "colab": {
     "base_uri": "https://localhost:8080/"
    },
    "executionInfo": {
     "status": "ok",
     "timestamp": 1629248812980,
     "user_tz": -540,
     "elapsed": 25814,
     "user": {
      "displayName": "Harksoo Kim",
      "photoUrl": "",
      "userId": "04506968767642445103"
     }
    },
    "outputId": "a2c32245-050a-4335-ae54-7b94d25a6c41"
   },
   "source": [
    "from google.colab import drive\n",
    "drive.mount(\"/gdrive\", force_remount=True)"
   ],
   "execution_count": 1,
   "outputs": [
    {
     "output_type": "stream",
     "text": [
      "Mounted at /gdrive\n"
     ],
     "name": "stdout"
    }
   ]
  },
  {
   "cell_type": "markdown",
   "metadata": {
    "id": "junjuA4pVM5n"
   },
   "source": [
    "<h2>라이브러리 설치 </h2>"
   ]
  },
  {
   "cell_type": "code",
   "metadata": {
    "id": "WwzrDnJYmV3Z",
    "colab": {
     "base_uri": "https://localhost:8080/"
    },
    "executionInfo": {
     "status": "ok",
     "timestamp": 1629249241938,
     "user_tz": -540,
     "elapsed": 3429,
     "user": {
      "displayName": "Harksoo Kim",
      "photoUrl": "",
      "userId": "04506968767642445103"
     }
    },
    "outputId": "60e4674c-b708-4b1e-a5fa-e32c5308a17e"
   },
   "source": [
    "!pip install hmmlearn"
   ],
   "execution_count": 7,
   "outputs": [
    {
     "output_type": "stream",
     "text": [
      "Collecting hmmlearn\n",
      "  Downloading hmmlearn-0.2.6-cp37-cp37m-manylinux_2_5_x86_64.manylinux1_x86_64.whl (374 kB)\n",
      "\u001B[?25l\r\u001B[K     |▉                               | 10 kB 22.0 MB/s eta 0:00:01\r\u001B[K     |█▊                              | 20 kB 24.8 MB/s eta 0:00:01\r\u001B[K     |██▋                             | 30 kB 18.9 MB/s eta 0:00:01\r\u001B[K     |███▌                            | 40 kB 12.6 MB/s eta 0:00:01\r\u001B[K     |████▍                           | 51 kB 5.6 MB/s eta 0:00:01\r\u001B[K     |█████▎                          | 61 kB 5.9 MB/s eta 0:00:01\r\u001B[K     |██████▏                         | 71 kB 5.2 MB/s eta 0:00:01\r\u001B[K     |███████                         | 81 kB 5.7 MB/s eta 0:00:01\r\u001B[K     |███████▉                        | 92 kB 5.8 MB/s eta 0:00:01\r\u001B[K     |████████▊                       | 102 kB 5.2 MB/s eta 0:00:01\r\u001B[K     |█████████▋                      | 112 kB 5.2 MB/s eta 0:00:01\r\u001B[K     |██████████▌                     | 122 kB 5.2 MB/s eta 0:00:01\r\u001B[K     |███████████▍                    | 133 kB 5.2 MB/s eta 0:00:01\r\u001B[K     |████████████▎                   | 143 kB 5.2 MB/s eta 0:00:01\r\u001B[K     |█████████████▏                  | 153 kB 5.2 MB/s eta 0:00:01\r\u001B[K     |██████████████                  | 163 kB 5.2 MB/s eta 0:00:01\r\u001B[K     |██████████████▉                 | 174 kB 5.2 MB/s eta 0:00:01\r\u001B[K     |███████████████▊                | 184 kB 5.2 MB/s eta 0:00:01\r\u001B[K     |████████████████▋               | 194 kB 5.2 MB/s eta 0:00:01\r\u001B[K     |█████████████████▌              | 204 kB 5.2 MB/s eta 0:00:01\r\u001B[K     |██████████████████▍             | 215 kB 5.2 MB/s eta 0:00:01\r\u001B[K     |███████████████████▎            | 225 kB 5.2 MB/s eta 0:00:01\r\u001B[K     |████████████████████            | 235 kB 5.2 MB/s eta 0:00:01\r\u001B[K     |█████████████████████           | 245 kB 5.2 MB/s eta 0:00:01\r\u001B[K     |█████████████████████▉          | 256 kB 5.2 MB/s eta 0:00:01\r\u001B[K     |██████████████████████▊         | 266 kB 5.2 MB/s eta 0:00:01\r\u001B[K     |███████████████████████▋        | 276 kB 5.2 MB/s eta 0:00:01\r\u001B[K     |████████████████████████▌       | 286 kB 5.2 MB/s eta 0:00:01\r\u001B[K     |█████████████████████████▍      | 296 kB 5.2 MB/s eta 0:00:01\r\u001B[K     |██████████████████████████▎     | 307 kB 5.2 MB/s eta 0:00:01\r\u001B[K     |███████████████████████████     | 317 kB 5.2 MB/s eta 0:00:01\r\u001B[K     |████████████████████████████    | 327 kB 5.2 MB/s eta 0:00:01\r\u001B[K     |████████████████████████████▉   | 337 kB 5.2 MB/s eta 0:00:01\r\u001B[K     |█████████████████████████████▊  | 348 kB 5.2 MB/s eta 0:00:01\r\u001B[K     |██████████████████████████████▋ | 358 kB 5.2 MB/s eta 0:00:01\r\u001B[K     |███████████████████████████████▌| 368 kB 5.2 MB/s eta 0:00:01\r\u001B[K     |████████████████████████████████| 374 kB 5.2 MB/s \n",
      "\u001B[?25hRequirement already satisfied: scipy>=0.19 in /usr/local/lib/python3.7/dist-packages (from hmmlearn) (1.4.1)\n",
      "Requirement already satisfied: scikit-learn>=0.16 in /usr/local/lib/python3.7/dist-packages (from hmmlearn) (0.22.2.post1)\n",
      "Requirement already satisfied: numpy>=1.10 in /usr/local/lib/python3.7/dist-packages (from hmmlearn) (1.19.5)\n",
      "Requirement already satisfied: joblib>=0.11 in /usr/local/lib/python3.7/dist-packages (from scikit-learn>=0.16->hmmlearn) (1.0.1)\n",
      "Installing collected packages: hmmlearn\n",
      "Successfully installed hmmlearn-0.2.6\n"
     ],
     "name": "stdout"
    }
   ]
  },
  {
   "cell_type": "code",
   "metadata": {
    "id": "0VJD-PF6dYfb",
    "colab": {
     "base_uri": "https://localhost:8080/"
    },
    "executionInfo": {
     "status": "ok",
     "timestamp": 1629253258934,
     "user_tz": -540,
     "elapsed": 294,
     "user": {
      "displayName": "Harksoo Kim",
      "photoUrl": "",
      "userId": "04506968767642445103"
     }
    },
    "outputId": "5e356b3c-2801-4583-ce7c-1e635b92cf46",
    "pycharm": {
     "name": "#%%\n"
    }
   },
   "source": [
    "import numpy as np\n",
    "from hmmlearn import hmm\n",
    "\n",
    "states = [\"Rainy\", \"Cloudy\", \"Sunny\"]\n",
    "n_states = len(states)\n",
    "\n",
    "observations = [\"Boots\", \"Shoes\"]\n",
    "n_observations = len(observations)\n",
    "\n",
    "# 시작 확률\n",
    "start_probability = np.array([0.2, 0.5, 0.3])\n",
    "\n",
    "# 전이 확률\n",
    "transition_probability = np.array([\n",
    "  [0.4, 0.3, 0.3],\n",
    "  [0.2, 0.6, 0.2],\n",
    "  [0.1, 0.1, 0.8]\n",
    "])\n",
    "\n",
    "# 관측 확률\n",
    "emission_probability = np.array([\n",
    "  [0.8, 0.2],\n",
    "  [0.5, 0.5],\n",
    "  [0.1, 0.9]\n",
    "])\n",
    "\n",
    "# 모델 만들기\n",
    "model = hmm.MultinomialHMM(n_components=n_states)\n",
    "# 여기를 채우세요.\n",
    "\n",
    "# 관측 입력\n",
    "input = [0, 0, 1,1]\n",
    "\n",
    "# HMM 모델 호출\n",
    "# 여기를 채우세요.\n",
    "\n",
    "print(\"Input :\", \", \".join(map(lambda x: observations[x], input)))\n",
    "print(\"Output:\", \", \".join(map(lambda x: states[x], sequence)))\n",
    "print(\"Prob. :\", logprob)"
   ],
   "execution_count": 28,
   "outputs": [
    {
     "output_type": "stream",
     "text": [
      "Input : Boots, Boots, Shoes, Shoes\n",
      "Output: Rainy, Rainy, Sunny, Sunny\n",
      "Prob. : -4.609853133892472\n"
     ],
     "name": "stdout"
    }
   ]
  }
 ]
}